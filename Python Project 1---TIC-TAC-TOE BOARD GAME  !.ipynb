{
 "cells": [
  {
   "cell_type": "code",
   "execution_count": 25,
   "metadata": {},
   "outputs": [],
   "source": [
    "# TIC-TAC-TOE GAME USING PYTHON3 :)"
   ]
  },
  {
   "cell_type": "code",
   "execution_count": 26,
   "metadata": {},
   "outputs": [],
   "source": [
    "from IPython.display import clear_output"
   ]
  },
  {
   "cell_type": "code",
   "execution_count": 27,
   "metadata": {},
   "outputs": [],
   "source": [
    "def welcome():\n",
    "    print('Welcome to the TIC-TAC-TOE Game !')\n",
    "    print('                                          ')\n",
    "    print('Hi :)  Lets begin the play !')"
   ]
  },
  {
   "cell_type": "code",
   "execution_count": 28,
   "metadata": {},
   "outputs": [
    {
     "name": "stdout",
     "output_type": "stream",
     "text": [
      "Welcome to the TIC-TAC-TOE Game !\n",
      "                                          \n",
      "Hi :)  Lets begin the play !\n"
     ]
    }
   ],
   "source": [
    "welcome()"
   ]
  },
  {
   "cell_type": "code",
   "execution_count": 4,
   "metadata": {},
   "outputs": [],
   "source": [
    "def display_board(board):\n",
    "    print('   '+'|'+'   '+'|')\n",
    "    print(board[1]+'|'+board[2]+'|'+board[3])\n",
    "    print('   '+'|'+'   '+'|')\n",
    "    print('------------')\n",
    "    print('   '+'|'+'   '+'|')\n",
    "    print(board[4]+'|'+board[5]+'|'+board[6])\n",
    "    print('   '+'|'+'   '+'|')\n",
    "    print('------------')\n",
    "    print('   '+'|'+'   '+'|')\n",
    "    print(board[7]+'|'+board[8]+'|'+board[9])\n",
    "    print('   '+'|'+'   '+'|')\n",
    "    "
   ]
  },
  {
   "cell_type": "code",
   "execution_count": 5,
   "metadata": {},
   "outputs": [
    {
     "name": "stdout",
     "output_type": "stream",
     "text": [
      "   |   |\n",
      " 1 | 2 | 3 \n",
      "   |   |\n",
      "------------\n",
      "   |   |\n",
      " 4 | 5 | 6 \n",
      "   |   |\n",
      "------------\n",
      "   |   |\n",
      " 7 | 8 | 9 \n",
      "   |   |\n"
     ]
    }
   ],
   "source": [
    "board=['#',' 1 ',' 2 ',' 3 ',' 4 ',' 5 ',' 6 ',' 7 ',' 8 ',' 9 ']\n",
    "display_board(board)"
   ]
  },
  {
   "cell_type": "code",
   "execution_count": 6,
   "metadata": {},
   "outputs": [],
   "source": [
    " #   input(\"Choose from 'X' or 'O'\")\n",
    "def player_input():\n",
    "    global choice\n",
    "    choice='Q'\n",
    "    while choice not in ['X','O']:\n",
    "        \n",
    "        choice=input(\"Player-1 :Choose from 'X' or 'O':\").upper()\n",
    "     \n",
    "        \n",
    "        if choice not in ['X','O']:\n",
    "            clear_output()\n",
    "            print(\"Invalid Choice :( \")\n",
    "        else:\n",
    "            \n",
    "            if choice == 'X':\n",
    "                return ('X', 'O')\n",
    "            else:\n",
    "                return ('O', 'X')    "
   ]
  },
  {
   "cell_type": "code",
   "execution_count": 7,
   "metadata": {},
   "outputs": [
    {
     "name": "stdout",
     "output_type": "stream",
     "text": [
      "Player-1 :Choose from 'X' or 'O':o\n"
     ]
    },
    {
     "data": {
      "text/plain": [
       "('O', 'X')"
      ]
     },
     "execution_count": 7,
     "metadata": {},
     "output_type": "execute_result"
    }
   ],
   "source": [
    "player_input()"
   ]
  },
  {
   "cell_type": "code",
   "execution_count": 8,
   "metadata": {},
   "outputs": [],
   "source": [
    "def display_new_board(new_board):\n",
    "    print('   '+'|'+'   '+'|')\n",
    "    print(' '+new_board[1]+' '+'|'+' '+new_board[2]+' '+'|'+new_board[3])\n",
    "    print('   '+'|'+'   '+'|')\n",
    "    print('------------')\n",
    "    print('   '+'|'+'   '+'|')\n",
    "    print(' '+new_board[4]+' '+'|'+' '+new_board[5]+' '+'|'+new_board[6])\n",
    "    print('   '+'|'+'   '+'|')\n",
    "    print('------------')\n",
    "    print('   '+'|'+'   '+'|')\n",
    "    print(' '+new_board[7]+' '+'|'+' '+new_board[8]+' '+'|'+new_board[9])\n",
    "    print('   '+'|'+'   '+'|')"
   ]
  },
  {
   "cell_type": "code",
   "execution_count": 24,
   "metadata": {},
   "outputs": [
    {
     "name": "stdout",
     "output_type": "stream",
     "text": [
      "   |   |\n",
      "   |   | \n",
      "   |   |\n",
      "------------\n",
      "   |   |\n",
      "   |   | \n",
      "   |   |\n",
      "------------\n",
      "   |   |\n",
      "   |   | \n",
      "   |   |\n"
     ]
    }
   ],
   "source": [
    "new_board=['#',' ',' ',' ',' ',' ',' ',' ',' ',' ']\n",
    "display_new_board(new_board)"
   ]
  },
  {
   "cell_type": "code",
   "execution_count": 20,
   "metadata": {},
   "outputs": [],
   "source": [
    "def place_marker(choice,new_board,position):\n",
    "    new_board[position]=choice"
   ]
  },
  {
   "cell_type": "code",
   "execution_count": 23,
   "metadata": {},
   "outputs": [
    {
     "name": "stdout",
     "output_type": "stream",
     "text": [
      "   |   |\n",
      "   | X | \n",
      "   |   |\n",
      "------------\n",
      "   |   |\n",
      "   |   | \n",
      "   |   |\n",
      "------------\n",
      "   |   |\n",
      "   |   | \n",
      "   |   |\n"
     ]
    }
   ],
   "source": [
    "place_marker('X',new_board,2)\n",
    "display_new_board(new_board)"
   ]
  },
  {
   "cell_type": "code",
   "execution_count": 12,
   "metadata": {},
   "outputs": [],
   "source": [
    "def win_check(new_board,choice):\n",
    "    if (new_board[1]==choice and new_board[2]==choice and new_board[3]==choice)or(new_board[4]==choice and new_board[5]==choice and new_board[6]==choice)or(new_board[7]==choice and new_board[8]==choice and new_board[9]==choice)or(new_board[7]==choice and new_board[4]==choice and new_board[1]==choice)or(new_board[8]==choice and new_board[5]==choice and new_board[2]==choice)or(new_board[9]==choice and new_board[6]==choice and new_board[3]==choice)or(new_board[7]==choice and new_board[5]==choice and new_board[3]==choice)or(new_board[9]==choice and new_board[5]==choice and new_board[1]==choice):\n",
    "            return True\n",
    "    else:\n",
    "            return False"
   ]
  },
  {
   "cell_type": "code",
   "execution_count": 13,
   "metadata": {},
   "outputs": [],
   "source": [
    "import random\n",
    "\n",
    "def choose_first():\n",
    "    if random.randint(0, 1) == 0:\n",
    "        return 'Player 2'\n",
    "    else:\n",
    "        return 'Player 1'"
   ]
  },
  {
   "cell_type": "code",
   "execution_count": 14,
   "metadata": {},
   "outputs": [],
   "source": [
    "def space_check(new_board, position):\n",
    "    \n",
    "    return new_board[position] == ' '"
   ]
  },
  {
   "cell_type": "code",
   "execution_count": 15,
   "metadata": {},
   "outputs": [],
   "source": [
    "def full_board_check(new_board):\n",
    "    for i in range(1,10):\n",
    "        if space_check(new_board, i):\n",
    "            return False\n",
    "    return True"
   ]
  },
  {
   "cell_type": "code",
   "execution_count": 16,
   "metadata": {},
   "outputs": [],
   "source": [
    "def player_choice(new_board):\n",
    "    position = 0\n",
    "    \n",
    "    while position not in [1,2,3,4,5,6,7,8,9] or not space_check(new_board, position):\n",
    "        position = int(input('Choose your next position: (1-9) '))\n",
    "        \n",
    "    return position"
   ]
  },
  {
   "cell_type": "code",
   "execution_count": 17,
   "metadata": {},
   "outputs": [],
   "source": [
    "def replay():\n",
    "    \n",
    "    return input('Do you want to play again? Enter Yes or No: ').lower().startswith('y')"
   ]
  },
  {
   "cell_type": "code",
   "execution_count": 22,
   "metadata": {},
   "outputs": [
    {
     "name": "stdout",
     "output_type": "stream",
     "text": [
      "Welcome to the TIC-TAC-TOE Game !\n",
      "                                          \n",
      "Hi :)  Lets begin the play !\n",
      "                                              \n",
      "The positions look like this: \n",
      "                                              \n",
      "   |   |\n",
      " 1 | 2 | 3 \n",
      "   |   |\n",
      "------------\n",
      "   |   |\n",
      " 4 | 5 | 6 \n",
      "   |   |\n",
      "------------\n",
      "   |   |\n",
      " 7 | 8 | 9 \n",
      "   |   |\n",
      "Player-1 :Choose from 'X' or 'O':o\n",
      "                                                          \n",
      "Player 1 will go first.\n",
      "Are you ready to play? Enter Yes or No.n\n",
      "Do you want to play again? Enter Yes or No: n\n"
     ]
    }
   ],
   "source": [
    "welcome()\n",
    "print('                                              ')\n",
    "print('The positions look like this: ')\n",
    "print('                                              ')\n",
    "display_board(board)\n",
    "\n",
    "while True:\n",
    "    # Reset the board\n",
    "    new_board=['#',' ',' ',' ',' ',' ',' ',' ',' ',' ']\n",
    "    \n",
    "    player1_marker, player2_marker = player_input()\n",
    "    turn = choose_first()\n",
    "    print('                                                          ')\n",
    "    print(turn + ' will go first.')\n",
    "    play_game = input('Are you ready to play? Enter Yes or No.')\n",
    "    \n",
    "    if play_game.lower()[0] == 'y':\n",
    "        game_on = True\n",
    "    else:\n",
    "        game_on = False\n",
    "\n",
    "    while game_on:\n",
    "        if turn == 'Player 1':\n",
    "            # Player1's turn.\n",
    "\n",
    "            display_new_board(new_board)\n",
    "            print('                                              ')\n",
    "            print(\"Player1's turn !\")\n",
    "            position = player_choice(new_board)\n",
    "            place_marker(player1_marker,new_board, position)\n",
    "            \n",
    "            if win_check(new_board, player1_marker):\n",
    "                display_new_board(new_board)\n",
    "                print('Congratulations! You have won the game! :) ')\n",
    "                game_on = False\n",
    "            else:\n",
    "                if full_board_check(new_board):\n",
    "                    display_new_board(new_board)\n",
    "                    print('The game is a draw !')\n",
    "                    break\n",
    "                else:\n",
    "                    turn = 'Player 2'\n",
    "\n",
    "        else:\n",
    "            # Player2's turn.\n",
    "            \n",
    "            display_new_board(new_board)\n",
    "            print('                                              ')\n",
    "            print(\"Player2's turn !\")\n",
    "            position = player_choice(new_board)\n",
    "            place_marker(player2_marker, new_board,  position)\n",
    "\n",
    "            if win_check(new_board, player2_marker):\n",
    "                display_new_board(new_board)\n",
    "                print('Player 2 has won!')\n",
    "                game_on = False\n",
    "            else:\n",
    "                if full_board_check(new_board):\n",
    "                    display_new_board(new_board)\n",
    "                    print('The game is a draw!')\n",
    "                    break\n",
    "                else:\n",
    "                    turn = 'Player 1'\n",
    "\n",
    "    if not replay():\n",
    "        break"
   ]
  }
 ],
 "metadata": {
  "kernelspec": {
   "display_name": "Python 3",
   "language": "python",
   "name": "python3"
  },
  "language_info": {
   "codemirror_mode": {
    "name": "ipython",
    "version": 3
   },
   "file_extension": ".py",
   "mimetype": "text/x-python",
   "name": "python",
   "nbconvert_exporter": "python",
   "pygments_lexer": "ipython3",
   "version": "3.7.4"
  }
 },
 "nbformat": 4,
 "nbformat_minor": 2
}
